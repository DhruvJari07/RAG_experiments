{
 "cells": [
  {
   "cell_type": "code",
   "execution_count": 1,
   "metadata": {},
   "outputs": [],
   "source": [
    "from langchain.chains import LLMChain, RetrievalQA\n",
    "from langchain.text_splitter import RecursiveCharacterTextSplitter, CharacterTextSplitter, TokenTextSplitter\n",
    "from langchain.retrievers import ParentDocumentRetriever\n",
    "from langchain.vectorstores import Chroma, Vectara\n",
    "from langchain.embeddings import OpenAIEmbeddings\n",
    "from langchain_community.embeddings import HuggingFaceEmbeddings\n",
    "from langchain.storage import InMemoryStore\n",
    "from langchain.document_loaders import TextLoader\n",
    "from langchain.retrievers.document_compressors import LLMChainExtractor\n",
    "from langchain.retrievers import ContextualCompressionRetriever\n",
    "\n",
    "from langchain.chat_models.openai import ChatOpenAI\n",
    "from langchain_community.llms import HuggingFaceHub\n",
    "from langchain.document_loaders.unstructured import UnstructuredFileLoader\n",
    "\n",
    "import urllib.request"
   ]
  },
  {
   "cell_type": "code",
   "execution_count": 2,
   "metadata": {},
   "outputs": [],
   "source": [
    "from dotenv import load_dotenv\n",
    "import os"
   ]
  },
  {
   "cell_type": "code",
   "execution_count": 3,
   "metadata": {},
   "outputs": [],
   "source": [
    "load_dotenv()\n",
    "HF_TOKEN = os.getenv(\"Huggingface_api\")"
   ]
  },
  {
   "cell_type": "code",
   "execution_count": 4,
   "metadata": {},
   "outputs": [
    {
     "data": {
      "text/plain": [
       "('meditation.pdf', <http.client.HTTPMessage at 0x1eb5bcefcd0>)"
      ]
     },
     "execution_count": 4,
     "metadata": {},
     "output_type": "execute_result"
    }
   ],
   "source": [
    "url = 'https://www.buddhanet.net/pdf_file/chanmed1.pdf'\n",
    "file_name = 'meditation.pdf'\n",
    "urllib.request.urlretrieve(url, file_name)"
   ]
  },
  {
   "cell_type": "code",
   "execution_count": 13,
   "metadata": {},
   "outputs": [],
   "source": [
    "def get_answer_character(doc_text, chunk_size: int, chunk_overlap: int, query: str):\n",
    "    text_splitter = CharacterTextSplitter(chunk_size=chunk_size, chunk_overlap=chunk_overlap, separator=\" \")\n",
    "    docs = text_splitter.split_documents(doc_text)\n",
    "    embeddings = HuggingFaceEmbeddings(model_name=\"all-MiniLM-L6-v2\")\n",
    "    vs = Chroma.from_documents(docs, embeddings)\n",
    "    qa = RetrievalQA.from_chain_type(llm=llm, chain_type=\"stuff\", retriever=vs.as_retriever())\n",
    "    return qa.run(query)\n",
    "\n",
    "def get_answer_token(doc_text, chunk_size: int, chunk_overlap: int, query: str):\n",
    "    text_splitter = TokenTextSplitter(chunk_size=chunk_size, chunk_overlap=chunk_overlap)\n",
    "    docs = text_splitter.split_documents(doc_text)\n",
    "    embeddings = HuggingFaceEmbeddings(model_name=\"all-MiniLM-L6-v2\")\n",
    "    vs = Chroma.from_documents(docs, embeddings)\n",
    "    qa = RetrievalQA.from_chain_type(llm=llm, chain_type=\"stuff\", retriever=vs.as_retriever())\n",
    "    return qa.run(query)\n",
    "\n",
    "def get_answer_recursive(doc_text, chunk_size: int, chunk_overlap: int, query: str):\n",
    "    text_splitter = RecursiveCharacterTextSplitter(chunk_size=chunk_size, chunk_overlap=chunk_overlap)\n",
    "    docs = text_splitter.split_documents(doc_text)\n",
    "    embeddings = HuggingFaceEmbeddings(model_name=\"all-MiniLM-L6-v2\")\n",
    "    vs = Chroma.from_documents(docs, embeddings)\n",
    "    qa = RetrievalQA.from_chain_type(llm=llm, chain_type=\"stuff\", retriever=vs.as_retriever())\n",
    "    return qa.run(query)\n",
    "\n",
    "def get_answer_parent(doc_text, query: str):\n",
    "    from langchain.retrievers.document_compressors import EmbeddingsFilter\n",
    "    llm = HuggingFaceHub(\n",
    "        repo_id=\"mistralai/Mistral-7B-Instruct-v0.2\",\n",
    "        huggingfacehub_api_token = HF_TOKEN,\n",
    "        model_kwargs={\n",
    "            \"max_new_tokens\": 512,\n",
    "            \"top_k\": 30,\n",
    "            \"temperature\": 0.1,\n",
    "        },\n",
    "    )\n",
    "\n",
    "    # This text splitter is used to create the parent documents - The big chunks\n",
    "    parent_splitter = RecursiveCharacterTextSplitter(chunk_size=4000)\n",
    "    # This text splitter is used to create the child documents - The small chunks\n",
    "    # It should create documents smaller than the parent\n",
    "    child_splitter = RecursiveCharacterTextSplitter(chunk_size=200)\n",
    "\n",
    "    #docs = text_splitter.split_documents(doc_text)\n",
    "    embeddings = HuggingFaceEmbeddings(model_name=\"all-MiniLM-L6-v2\")\n",
    "\n",
    "    vs = Chroma(collection_name=\"split_parents\", embedding_function=embeddings)\n",
    "    # The storage layer for the parent documents\n",
    "    store = InMemoryStore()\n",
    "\n",
    "    big_chunks_retriever = ParentDocumentRetriever(\n",
    "        vectorstore=vs,\n",
    "        docstore=store,\n",
    "        child_splitter=child_splitter,\n",
    "        parent_splitter=parent_splitter,\n",
    "    )\n",
    "\n",
    "    big_chunks_retriever.add_documents(doc_text)\n",
    "    # compressor = LLMChainExtractor.from_llm(relevant_filter)\n",
    "    # compression_retriever = ContextualCompressionRetriever(\n",
    "    #     base_compressor=compressor, base_retriever=big_chunks_retriever,\n",
    "    # )\n",
    "\n",
    "    qa = RetrievalQA.from_chain_type(llm=llm, chain_type=\"stuff\", retriever=big_chunks_retriever)\n",
    "    return qa.invoke(query)\n",
    "    # return vs.similarity_search(query)"
   ]
  },
  {
   "cell_type": "code",
   "execution_count": 14,
   "metadata": {},
   "outputs": [],
   "source": [
    "llm = HuggingFaceHub(\n",
    "        repo_id=\"mistralai/Mistral-7B-Instruct-v0.2\",\n",
    "        huggingfacehub_api_token = HF_TOKEN,\n",
    "        model_kwargs={\n",
    "            \"max_new_tokens\": 512,\n",
    "            \"top_k\": 30,\n",
    "            \"temperature\": 0.1,\n",
    "        },\n",
    "    )"
   ]
  },
  {
   "cell_type": "code",
   "execution_count": 7,
   "metadata": {},
   "outputs": [
    {
     "name": "stderr",
     "output_type": "stream",
     "text": [
      "The PDF <_io.BufferedReader name='meditation.pdf'> contains a metadata field indicating that it should not allow text extraction. Ignoring this field and proceeding. Use the check_extractable if you want to raise an error in this case\n"
     ]
    }
   ],
   "source": [
    "loader = UnstructuredFileLoader(file_name, mode=\"single\", strategy=\"fast\")\n",
    "doc_text = loader.load()"
   ]
  },
  {
   "cell_type": "code",
   "execution_count": 8,
   "metadata": {},
   "outputs": [],
   "source": [
    "query1 = \"what is realization of the state of purity?\"\n",
    "query2 = \"What are the siz profound dharma gates?\""
   ]
  },
  {
   "cell_type": "code",
   "execution_count": 15,
   "metadata": {},
   "outputs": [
    {
     "name": "stderr",
     "output_type": "stream",
     "text": [
      "c:\\Users\\Dhruv\\anaconda3\\envs\\langchain_apps\\lib\\site-packages\\huggingface_hub\\file_download.py:1132: FutureWarning: `resume_download` is deprecated and will be removed in version 1.0.0. Downloads always resume when possible. If you want to force a new download, use `force_download=True`.\n",
      "  warnings.warn(\n"
     ]
    },
    {
     "name": "stdout",
     "output_type": "stream",
     "text": [
      "chunk=500, overlap=0, response=Use the following pieces of context to answer the question at the end. If you don't know the answer, just say that you don't know, don't try to make up an answer.\n",
      "\n",
      "Realization of the State of Purity\n",
      "\n",
      "The practice of purification consists of contemplation on discriminating views. When the mind is still like calm water and there is an absence of false thinking, the Real Mind, which does not exist apart from false thinking, manifests. This water-without-waves sort of Mind is called The Realization of Purity.\n",
      "\n",
      "69\n",
      "\n",
      "Purity\n",
      "\n",
      "The practice of purification consists of contemplation on discriminating views. When the mind is still like calm water and there is an absence of false thinking, the Real Mind, which does not exist apart from false thinking, manifests. This water-without-waves sort of Mind is called The Realization of Purity.\n",
      "\n",
      "69\n",
      "\n",
      "These Six Profound Dharma Gates may be seen as consisting of a preliminary set of methods, involving counting and following the breath, the two main prac- tices of Chih and\n",
      "\n",
      "Purity\n",
      "\n",
      "The practice of purification consists of contemplation on discriminating views. When the mind is still like calm water and there is an absence of false thinking, the Real Mind, which does not exist apart from false thinking, manifests. This water-without-waves sort of Mind is called The Realization of Purity.\n",
      "\n",
      "69\n",
      "\n",
      "These Six Profound Dharma Gates may be seen as consisting of a preliminary set of methods, involving counting and following the breath, the two main prac- tices of Chih and\n",
      "\n",
      "uncreated. Because it is uncreated, it is beyond is and is not; and it is, therefore, void. Because it is void, it follows that there is no subjective mind that contemplates. Because there is no contemplating mind, it follows that there is no object contemplated; and because knowledge and its object vanish, this is called The-Realization-of-Returning Method. Follow- ing that realization, the idea of returning remains; to relinquish it, one should meditate on purity.\n",
      "\n",
      "Realization of the State of\n",
      "\n",
      "Question: what is realization of the state of purity?\n",
      "Helpful Answer: The Realization of Purity is a state of mind achieved through the practice of purification, which involves contemplation on discriminating views. When the mind is still like calm water and there is an absence of false thinking, the Real Mind, which does not exist apart from false thinking, manifests. This state of mind, which is free from impurities and false thinking, is called The Realization of Purity.\n",
      "\n",
      "\n"
     ]
    },
    {
     "name": "stderr",
     "output_type": "stream",
     "text": [
      "c:\\Users\\Dhruv\\anaconda3\\envs\\langchain_apps\\lib\\site-packages\\huggingface_hub\\file_download.py:1132: FutureWarning: `resume_download` is deprecated and will be removed in version 1.0.0. Downloads always resume when possible. If you want to force a new download, use `force_download=True`.\n",
      "  warnings.warn(\n"
     ]
    },
    {
     "name": "stdout",
     "output_type": "stream",
     "text": [
      "chunk=500, overlap=100, response=Use the following pieces of context to answer the question at the end. If you don't know the answer, just say that you don't know, don't try to make up an answer.\n",
      "\n",
      "Realization of the State of Purity\n",
      "\n",
      "The practice of purification consists of contemplation on discriminating views. When the mind is still like calm water and there is an absence of false thinking, the Real Mind, which does not exist apart from false thinking, manifests. This water-without-waves sort of Mind is called The Realization of Purity.\n",
      "\n",
      "69\n",
      "\n",
      "Purity\n",
      "\n",
      "The practice of purification consists of contemplation on discriminating views. When the mind is still like calm water and there is an absence of false thinking, the Real Mind, which does not exist apart from false thinking, manifests. This water-without-waves sort of Mind is called The Realization of Purity.\n",
      "\n",
      "69\n",
      "\n",
      "These Six Profound Dharma Gates may be seen as consisting of a preliminary set of methods, involving counting and following the breath, the two main prac- tices of Chih and\n",
      "\n",
      "Purity\n",
      "\n",
      "The practice of purification consists of contemplation on discriminating views. When the mind is still like calm water and there is an absence of false thinking, the Real Mind, which does not exist apart from false thinking, manifests. This water-without-waves sort of Mind is called The Realization of Purity.\n",
      "\n",
      "69\n",
      "\n",
      "These Six Profound Dharma Gates may be seen as consisting of a preliminary set of methods, involving counting and following the breath, the two main prac- tices of Chih and\n",
      "\n",
      "uncreated. Because it is uncreated, it is beyond is and is not; and it is, therefore, void. Because it is void, it follows that there is no subjective mind that contemplates. Because there is no contemplating mind, it follows that there is no object contemplated; and because knowledge and its object vanish, this is called The-Realization-of-Returning Method. Follow- ing that realization, the idea of returning remains; to relinquish it, one should meditate on purity.\n",
      "\n",
      "Realization of the State of\n",
      "\n",
      "Question: what is realization of the state of purity?\n",
      "Helpful Answer: The Realization of Purity is a state of mind achieved through the practice of purification, which involves contemplation on discriminating views. When the mind is still like calm water and there is an absence of false thinking, the Real Mind, which does not exist apart from false thinking, manifests. This state of mind, which is free from impurities and false thinking, is called The Realization of Purity.\n",
      "\n",
      "\n"
     ]
    },
    {
     "name": "stderr",
     "output_type": "stream",
     "text": [
      "c:\\Users\\Dhruv\\anaconda3\\envs\\langchain_apps\\lib\\site-packages\\huggingface_hub\\file_download.py:1132: FutureWarning: `resume_download` is deprecated and will be removed in version 1.0.0. Downloads always resume when possible. If you want to force a new download, use `force_download=True`.\n",
      "  warnings.warn(\n"
     ]
    },
    {
     "name": "stdout",
     "output_type": "stream",
     "text": [
      "chunk=1000, overlap=0, response=Use the following pieces of context to answer the question at the end. If you don't know the answer, just say that you don't know, don't try to make up an answer.\n",
      "\n",
      "Realization of the State of Purity\n",
      "\n",
      "The practice of purification consists of contemplation on discriminating views. When the mind is still like calm water and there is an absence of false thinking, the Real Mind, which does not exist apart from false thinking, manifests. This water-without-waves sort of Mind is called The Realization of Purity.\n",
      "\n",
      "69\n",
      "\n",
      "Purity\n",
      "\n",
      "The practice of purification consists of contemplation on discriminating views. When the mind is still like calm water and there is an absence of false thinking, the Real Mind, which does not exist apart from false thinking, manifests. This water-without-waves sort of Mind is called The Realization of Purity.\n",
      "\n",
      "69\n",
      "\n",
      "These Six Profound Dharma Gates may be seen as consisting of a preliminary set of methods, involving counting and following the breath, the two main prac- tices of Chih and\n",
      "\n",
      "Purity\n",
      "\n",
      "The practice of purification consists of contemplation on discriminating views. When the mind is still like calm water and there is an absence of false thinking, the Real Mind, which does not exist apart from false thinking, manifests. This water-without-waves sort of Mind is called The Realization of Purity.\n",
      "\n",
      "69\n",
      "\n",
      "These Six Profound Dharma Gates may be seen as consisting of a preliminary set of methods, involving counting and following the breath, the two main prac- tices of Chih and\n",
      "\n",
      "uncreated. Because it is uncreated, it is beyond is and is not; and it is, therefore, void. Because it is void, it follows that there is no subjective mind that contemplates. Because there is no contemplating mind, it follows that there is no object contemplated; and because knowledge and its object vanish, this is called The-Realization-of-Returning Method. Follow- ing that realization, the idea of returning remains; to relinquish it, one should meditate on purity.\n",
      "\n",
      "Realization of the State of\n",
      "\n",
      "Question: what is realization of the state of purity?\n",
      "Helpful Answer: The Realization of Purity is a state of mind achieved through the practice of purification, which involves contemplation on discriminating views. When the mind is still like calm water and there is an absence of false thinking, the Real Mind, which does not exist apart from false thinking, manifests. This state of mind, which is free from impurities and false thinking, is called The Realization of Purity.\n",
      "\n",
      "\n"
     ]
    },
    {
     "name": "stderr",
     "output_type": "stream",
     "text": [
      "c:\\Users\\Dhruv\\anaconda3\\envs\\langchain_apps\\lib\\site-packages\\huggingface_hub\\file_download.py:1132: FutureWarning: `resume_download` is deprecated and will be removed in version 1.0.0. Downloads always resume when possible. If you want to force a new download, use `force_download=True`.\n",
      "  warnings.warn(\n"
     ]
    },
    {
     "name": "stdout",
     "output_type": "stream",
     "text": [
      "chunk=1000, overlap=100, response=Use the following pieces of context to answer the question at the end. If you don't know the answer, just say that you don't know, don't try to make up an answer.\n",
      "\n",
      "Realization of the State of Purity\n",
      "\n",
      "The practice of purification consists of contemplation on discriminating views. When the mind is still like calm water and there is an absence of false thinking, the Real Mind, which does not exist apart from false thinking, manifests. This water-without-waves sort of Mind is called The Realization of Purity.\n",
      "\n",
      "69\n",
      "\n",
      "Purity\n",
      "\n",
      "The practice of purification consists of contemplation on discriminating views. When the mind is still like calm water and there is an absence of false thinking, the Real Mind, which does not exist apart from false thinking, manifests. This water-without-waves sort of Mind is called The Realization of Purity.\n",
      "\n",
      "69\n",
      "\n",
      "These Six Profound Dharma Gates may be seen as consisting of a preliminary set of methods, involving counting and following the breath, the two main prac- tices of Chih and\n",
      "\n",
      "Purity\n",
      "\n",
      "The practice of purification consists of contemplation on discriminating views. When the mind is still like calm water and there is an absence of false thinking, the Real Mind, which does not exist apart from false thinking, manifests. This water-without-waves sort of Mind is called The Realization of Purity.\n",
      "\n",
      "69\n",
      "\n",
      "These Six Profound Dharma Gates may be seen as consisting of a preliminary set of methods, involving counting and following the breath, the two main prac- tices of Chih and\n",
      "\n",
      "uncreated. Because it is uncreated, it is beyond is and is not; and it is, therefore, void. Because it is void, it follows that there is no subjective mind that contemplates. Because there is no contemplating mind, it follows that there is no object contemplated; and because knowledge and its object vanish, this is called The-Realization-of-Returning Method. Follow- ing that realization, the idea of returning remains; to relinquish it, one should meditate on purity.\n",
      "\n",
      "Realization of the State of\n",
      "\n",
      "Question: what is realization of the state of purity?\n",
      "Helpful Answer: The Realization of Purity is a state of mind achieved through the practice of purification, which involves contemplation on discriminating views. When the mind is still like calm water and there is an absence of false thinking, the Real Mind, which does not exist apart from false thinking, manifests. This state of mind, which is free from impurities and false thinking, is called The Realization of Purity.\n",
      "\n",
      "\n"
     ]
    },
    {
     "name": "stderr",
     "output_type": "stream",
     "text": [
      "c:\\Users\\Dhruv\\anaconda3\\envs\\langchain_apps\\lib\\site-packages\\huggingface_hub\\file_download.py:1132: FutureWarning: `resume_download` is deprecated and will be removed in version 1.0.0. Downloads always resume when possible. If you want to force a new download, use `force_download=True`.\n",
      "  warnings.warn(\n"
     ]
    },
    {
     "name": "stdout",
     "output_type": "stream",
     "text": [
      "chunk=2000, overlap=0, response=Use the following pieces of context to answer the question at the end. If you don't know the answer, just say that you don't know, don't try to make up an answer.\n",
      "\n",
      "Realization of the State of Purity\n",
      "\n",
      "The practice of purification consists of contemplation on discriminating views. When the mind is still like calm water and there is an absence of false thinking, the Real Mind, which does not exist apart from false thinking, manifests. This water-without-waves sort of Mind is called The Realization of Purity.\n",
      "\n",
      "69\n",
      "\n",
      "Purity\n",
      "\n",
      "The practice of purification consists of contemplation on discriminating views. When the mind is still like calm water and there is an absence of false thinking, the Real Mind, which does not exist apart from false thinking, manifests. This water-without-waves sort of Mind is called The Realization of Purity.\n",
      "\n",
      "69\n",
      "\n",
      "These Six Profound Dharma Gates may be seen as consisting of a preliminary set of methods, involving counting and following the breath, the two main prac- tices of Chih and\n",
      "\n",
      "Purity\n",
      "\n",
      "The practice of purification consists of contemplation on discriminating views. When the mind is still like calm water and there is an absence of false thinking, the Real Mind, which does not exist apart from false thinking, manifests. This water-without-waves sort of Mind is called The Realization of Purity.\n",
      "\n",
      "69\n",
      "\n",
      "These Six Profound Dharma Gates may be seen as consisting of a preliminary set of methods, involving counting and following the breath, the two main prac- tices of Chih and\n",
      "\n",
      "uncreated. Because it is uncreated, it is beyond is and is not; and it is, therefore, void. Because it is void, it follows that there is no subjective mind that contemplates. Because there is no contemplating mind, it follows that there is no object contemplated; and because knowledge and its object vanish, this is called The-Realization-of-Returning Method. Follow- ing that realization, the idea of returning remains; to relinquish it, one should meditate on purity.\n",
      "\n",
      "Realization of the State of\n",
      "\n",
      "Question: what is realization of the state of purity?\n",
      "Helpful Answer: The Realization of Purity is a state of mind achieved through the practice of purification, which involves contemplation on discriminating views. When the mind is still like calm water and there is an absence of false thinking, the Real Mind, which does not exist apart from false thinking, manifests. This state of mind, which is free from impurities and false thinking, is called The Realization of Purity.\n",
      "\n",
      "\n"
     ]
    },
    {
     "name": "stderr",
     "output_type": "stream",
     "text": [
      "c:\\Users\\Dhruv\\anaconda3\\envs\\langchain_apps\\lib\\site-packages\\huggingface_hub\\file_download.py:1132: FutureWarning: `resume_download` is deprecated and will be removed in version 1.0.0. Downloads always resume when possible. If you want to force a new download, use `force_download=True`.\n",
      "  warnings.warn(\n"
     ]
    },
    {
     "name": "stdout",
     "output_type": "stream",
     "text": [
      "chunk=2000, overlap=100, response=Use the following pieces of context to answer the question at the end. If you don't know the answer, just say that you don't know, don't try to make up an answer.\n",
      "\n",
      "Realization of the State of Purity\n",
      "\n",
      "The practice of purification consists of contemplation on discriminating views. When the mind is still like calm water and there is an absence of false thinking, the Real Mind, which does not exist apart from false thinking, manifests. This water-without-waves sort of Mind is called The Realization of Purity.\n",
      "\n",
      "69\n",
      "\n",
      "Purity\n",
      "\n",
      "The practice of purification consists of contemplation on discriminating views. When the mind is still like calm water and there is an absence of false thinking, the Real Mind, which does not exist apart from false thinking, manifests. This water-without-waves sort of Mind is called The Realization of Purity.\n",
      "\n",
      "69\n",
      "\n",
      "These Six Profound Dharma Gates may be seen as consisting of a preliminary set of methods, involving counting and following the breath, the two main prac- tices of Chih and\n",
      "\n",
      "Purity\n",
      "\n",
      "The practice of purification consists of contemplation on discriminating views. When the mind is still like calm water and there is an absence of false thinking, the Real Mind, which does not exist apart from false thinking, manifests. This water-without-waves sort of Mind is called The Realization of Purity.\n",
      "\n",
      "69\n",
      "\n",
      "These Six Profound Dharma Gates may be seen as consisting of a preliminary set of methods, involving counting and following the breath, the two main prac- tices of Chih and\n",
      "\n",
      "uncreated. Because it is uncreated, it is beyond is and is not; and it is, therefore, void. Because it is void, it follows that there is no subjective mind that contemplates. Because there is no contemplating mind, it follows that there is no object contemplated; and because knowledge and its object vanish, this is called The-Realization-of-Returning Method. Follow- ing that realization, the idea of returning remains; to relinquish it, one should meditate on purity.\n",
      "\n",
      "Realization of the State of\n",
      "\n",
      "Question: what is realization of the state of purity?\n",
      "Helpful Answer: The Realization of Purity is a state of mind achieved through the practice of purification, which involves contemplation on discriminating views. When the mind is still like calm water and there is an absence of false thinking, the Real Mind, which does not exist apart from false thinking, manifests. This state of mind, which is free from impurities and false thinking, is called The Realization of Purity.\n",
      "\n",
      "\n"
     ]
    }
   ],
   "source": [
    "query = query1\n",
    "\n",
    "for chunk_size in [500, 1000, 2000]:\n",
    "    for chunk_overlap in [0, 100]:\n",
    "        response = get_answer_character(doc_text, chunk_size, chunk_overlap, query)\n",
    "        print(f\"chunk={chunk_size}, overlap={chunk_overlap}, response={response}\\n\\n\")"
   ]
  },
  {
   "cell_type": "code",
   "execution_count": 16,
   "metadata": {},
   "outputs": [
    {
     "name": "stderr",
     "output_type": "stream",
     "text": [
      "c:\\Users\\Dhruv\\anaconda3\\envs\\langchain_apps\\lib\\site-packages\\huggingface_hub\\file_download.py:1132: FutureWarning: `resume_download` is deprecated and will be removed in version 1.0.0. Downloads always resume when possible. If you want to force a new download, use `force_download=True`.\n",
      "  warnings.warn(\n"
     ]
    },
    {
     "name": "stdout",
     "output_type": "stream",
     "text": [
      "chunk=500, overlap=0, response= The Realization of Purity is a state of mind that manifests when the mind is still like calm water and there is an absence of false thinking. It is the Real Mind, which does not exist apart from false thinking, and is called The Realization of Purity. It is a water-without-waves sort of Mind. This realization is a part of the Six Profound Dharma Gates practice, which also includes practices of stopping (Chih), contemplation (Kuan), returning, and purifying. The goal of these practices is to realize Great Dhyana and Great Prajna, which can only be achieved with a relaxed and regulated mind.\n",
      "\n",
      "\n"
     ]
    },
    {
     "name": "stderr",
     "output_type": "stream",
     "text": [
      "c:\\Users\\Dhruv\\anaconda3\\envs\\langchain_apps\\lib\\site-packages\\huggingface_hub\\file_download.py:1132: FutureWarning: `resume_download` is deprecated and will be removed in version 1.0.0. Downloads always resume when possible. If you want to force a new download, use `force_download=True`.\n",
      "  warnings.warn(\n"
     ]
    },
    {
     "name": "stdout",
     "output_type": "stream",
     "text": [
      "chunk=500, overlap=100, response= The Realization of Purity is a state of mind that manifests when the mind is still like calm water and there is an absence of false thinking. It is the Real Mind, which does not exist apart from false thinking, and is called The Realization of Purity. It is a water-without-waves sort of Mind. This realization is a part of the Six Profound Dharma Gates practice, which also includes practices of stopping (Chih), contemplation (Kuan), returning, and purifying. The goal of these practices is to realize Great Dhyana and Great Prajna, which can only be achieved with a relaxed and regulated mind.\n",
      "\n",
      "\n"
     ]
    },
    {
     "name": "stderr",
     "output_type": "stream",
     "text": [
      "c:\\Users\\Dhruv\\anaconda3\\envs\\langchain_apps\\lib\\site-packages\\huggingface_hub\\file_download.py:1132: FutureWarning: `resume_download` is deprecated and will be removed in version 1.0.0. Downloads always resume when possible. If you want to force a new download, use `force_download=True`.\n",
      "  warnings.warn(\n"
     ]
    },
    {
     "name": "stdout",
     "output_type": "stream",
     "text": [
      "chunk=1000, overlap=0, response= The Realization of Purity is a state of mind that manifests when the mind is still like calm water and there is an absence of false thinking. It is the Real Mind, which does not exist apart from false thinking, and is called The Realization of Purity. It is a water-without-waves sort of Mind. This realization is a part of the Six Profound Dharma Gates practice, which also includes practices of stopping (Chih), contemplation (Kuan), returning, and purifying. The goal of these practices is to realize Great Dhyana and Great Prajna, which can only be achieved with a relaxed and regulated mind.\n",
      "\n",
      "\n"
     ]
    },
    {
     "name": "stderr",
     "output_type": "stream",
     "text": [
      "c:\\Users\\Dhruv\\anaconda3\\envs\\langchain_apps\\lib\\site-packages\\huggingface_hub\\file_download.py:1132: FutureWarning: `resume_download` is deprecated and will be removed in version 1.0.0. Downloads always resume when possible. If you want to force a new download, use `force_download=True`.\n",
      "  warnings.warn(\n"
     ]
    },
    {
     "name": "stdout",
     "output_type": "stream",
     "text": [
      "chunk=1000, overlap=100, response= The Realization of Purity is a state of mind that manifests when the mind is still like calm water and there is an absence of false thinking. It is the Real Mind, which does not exist apart from false thinking, and is called The Realization of Purity. It is a water-without-waves sort of Mind. This realization is a part of the Six Profound Dharma Gates practice, which also includes practices of stopping (Chih), contemplation (Kuan), returning, and purifying. The goal of these practices is to realize Great Dhyana and Great Prajna, which can only be achieved with a relaxed and regulated mind.\n",
      "\n",
      "\n"
     ]
    }
   ],
   "source": [
    "query = query1\n",
    "\n",
    "for chunk_size in [500, 1000]:\n",
    "    for chunk_overlap in [0, 100]:\n",
    "        response = get_answer_token(doc_text, chunk_size, chunk_overlap, query)\n",
    "        print(f\"chunk={chunk_size}, overlap={chunk_overlap}, response={response.split(':')[-1]}\\n\\n\")"
   ]
  },
  {
   "cell_type": "code",
   "execution_count": 17,
   "metadata": {},
   "outputs": [
    {
     "name": "stderr",
     "output_type": "stream",
     "text": [
      "c:\\Users\\Dhruv\\anaconda3\\envs\\langchain_apps\\lib\\site-packages\\huggingface_hub\\file_download.py:1132: FutureWarning: `resume_download` is deprecated and will be removed in version 1.0.0. Downloads always resume when possible. If you want to force a new download, use `force_download=True`.\n",
      "  warnings.warn(\n"
     ]
    },
    {
     "name": "stdout",
     "output_type": "stream",
     "text": [
      "chunk=500, overlap=0, response=Use the following pieces of context to answer the question at the end. If you don't know the answer, just say that you don't know, don't try to make up an answer.\n",
      "\n",
      "Realization of the State of Purity\n",
      "\n",
      "The practice of purification consists of contemplation on discriminating views. When the mind is still like calm water and there is an absence of false thinking, the Real Mind, which does not exist apart from false thinking, manifests. This water-without-waves sort of Mind is called The Realization of Purity.\n",
      "\n",
      "69\n",
      "\n",
      "Realization of the State of Purity\n",
      "\n",
      "The practice of purification consists of contemplation on discriminating views. When the mind is still like calm water and there is an absence of false thinking, the Real Mind, which does not exist apart from false thinking, manifests. This water-without-waves sort of Mind is called The Realization of Purity.\n",
      "\n",
      "69\n",
      "\n",
      "Purity\n",
      "\n",
      "The practice of purification consists of contemplation on discriminating views. When the mind is still like calm water and there is an absence of false thinking, the Real Mind, which does not exist apart from false thinking, manifests. This water-without-waves sort of Mind is called The Realization of Purity.\n",
      "\n",
      "69\n",
      "\n",
      "These Six Profound Dharma Gates may be seen as consisting of a preliminary set of methods, involving counting and following the breath, the two main prac- tices of Chih and\n",
      "\n",
      "Purity\n",
      "\n",
      "The practice of purification consists of contemplation on discriminating views. When the mind is still like calm water and there is an absence of false thinking, the Real Mind, which does not exist apart from false thinking, manifests. This water-without-waves sort of Mind is called The Realization of Purity.\n",
      "\n",
      "69\n",
      "\n",
      "These Six Profound Dharma Gates may be seen as consisting of a preliminary set of methods, involving counting and following the breath, the two main prac- tices of Chih and\n",
      "\n",
      "Question: what is realization of the state of purity?\n",
      "Helpful Answer: The Realization of Purity is a state of mind achieved through the practice of purification, which involves contemplation on discriminating views and the absence of false thinking. When the mind is still like calm water, the Real Mind, which does not exist apart from false thinking, manifests. This state of mind is called The Realization of Purity.\n",
      "\n",
      "\n"
     ]
    },
    {
     "name": "stderr",
     "output_type": "stream",
     "text": [
      "c:\\Users\\Dhruv\\anaconda3\\envs\\langchain_apps\\lib\\site-packages\\huggingface_hub\\file_download.py:1132: FutureWarning: `resume_download` is deprecated and will be removed in version 1.0.0. Downloads always resume when possible. If you want to force a new download, use `force_download=True`.\n",
      "  warnings.warn(\n"
     ]
    },
    {
     "name": "stdout",
     "output_type": "stream",
     "text": [
      "chunk=500, overlap=100, response=Use the following pieces of context to answer the question at the end. If you don't know the answer, just say that you don't know, don't try to make up an answer.\n",
      "\n",
      "Realization of the State of Purity\n",
      "\n",
      "The practice of purification consists of contemplation on discriminating views. When the mind is still like calm water and there is an absence of false thinking, the Real Mind, which does not exist apart from false thinking, manifests. This water-without-waves sort of Mind is called The Realization of Purity.\n",
      "\n",
      "69\n",
      "\n",
      "Realization of the State of Purity\n",
      "\n",
      "The practice of purification consists of contemplation on discriminating views. When the mind is still like calm water and there is an absence of false thinking, the Real Mind, which does not exist apart from false thinking, manifests. This water-without-waves sort of Mind is called The Realization of Purity.\n",
      "\n",
      "69\n",
      "\n",
      "Realization of the State of Purity\n",
      "\n",
      "The practice of purification consists of contemplation on discriminating views. When the mind is still like calm water and there is an absence of false thinking, the Real Mind, which does not exist apart from false thinking, manifests. This water-without-waves sort of Mind is called The Realization of Purity.\n",
      "\n",
      "69\n",
      "\n",
      "Purity\n",
      "\n",
      "The practice of purification consists of contemplation on discriminating views. When the mind is still like calm water and there is an absence of false thinking, the Real Mind, which does not exist apart from false thinking, manifests. This water-without-waves sort of Mind is called The Realization of Purity.\n",
      "\n",
      "69\n",
      "\n",
      "These Six Profound Dharma Gates may be seen as consisting of a preliminary set of methods, involving counting and following the breath, the two main prac- tices of Chih and\n",
      "\n",
      "Question: what is realization of the state of purity?\n",
      "Helpful Answer: The Realization of Purity is a state of mind achieved through the practice of purification, which involves contemplation on discriminating views and the absence of false thinking. It is described as a mind that is still like calm water and manifests the Real Mind, which does not exist apart from false thinking. This state of mind is also referred to as The Realization of Purity.\n",
      "\n",
      "\n"
     ]
    },
    {
     "name": "stderr",
     "output_type": "stream",
     "text": [
      "c:\\Users\\Dhruv\\anaconda3\\envs\\langchain_apps\\lib\\site-packages\\huggingface_hub\\file_download.py:1132: FutureWarning: `resume_download` is deprecated and will be removed in version 1.0.0. Downloads always resume when possible. If you want to force a new download, use `force_download=True`.\n",
      "  warnings.warn(\n"
     ]
    },
    {
     "name": "stdout",
     "output_type": "stream",
     "text": [
      "chunk=1000, overlap=0, response=Use the following pieces of context to answer the question at the end. If you don't know the answer, just say that you don't know, don't try to make up an answer.\n",
      "\n",
      "Realization of the State of Purity\n",
      "\n",
      "The practice of purification consists of contemplation on discriminating views. When the mind is still like calm water and there is an absence of false thinking, the Real Mind, which does not exist apart from false thinking, manifests. This water-without-waves sort of Mind is called The Realization of Purity.\n",
      "\n",
      "69\n",
      "\n",
      "Realization of the State of Purity\n",
      "\n",
      "The practice of purification consists of contemplation on discriminating views. When the mind is still like calm water and there is an absence of false thinking, the Real Mind, which does not exist apart from false thinking, manifests. This water-without-waves sort of Mind is called The Realization of Purity.\n",
      "\n",
      "69\n",
      "\n",
      "Realization of the State of Purity\n",
      "\n",
      "The practice of purification consists of contemplation on discriminating views. When the mind is still like calm water and there is an absence of false thinking, the Real Mind, which does not exist apart from false thinking, manifests. This water-without-waves sort of Mind is called The Realization of Purity.\n",
      "\n",
      "69\n",
      "\n",
      "Realization of the State of Purity\n",
      "\n",
      "The practice of purification consists of contemplation on discriminating views. When the mind is still like calm water and there is an absence of false thinking, the Real Mind, which does not exist apart from false thinking, manifests. This water-without-waves sort of Mind is called The Realization of Purity.\n",
      "\n",
      "69\n",
      "\n",
      "Question: what is realization of the state of purity?\n",
      "Helpful Answer: The Realization of Purity is a state of mind achieved through the practice of purification, which involves contemplation on discriminating views. When the mind is still like calm water and free of false thinking, the Real Mind, which is not separate from false thinking, manifests. This state of mind is referred to as The Realization of Purity.\n",
      "\n",
      "\n"
     ]
    },
    {
     "name": "stderr",
     "output_type": "stream",
     "text": [
      "c:\\Users\\Dhruv\\anaconda3\\envs\\langchain_apps\\lib\\site-packages\\huggingface_hub\\file_download.py:1132: FutureWarning: `resume_download` is deprecated and will be removed in version 1.0.0. Downloads always resume when possible. If you want to force a new download, use `force_download=True`.\n",
      "  warnings.warn(\n"
     ]
    },
    {
     "name": "stdout",
     "output_type": "stream",
     "text": [
      "chunk=1000, overlap=100, response=Use the following pieces of context to answer the question at the end. If you don't know the answer, just say that you don't know, don't try to make up an answer.\n",
      "\n",
      "Realization of the State of Purity\n",
      "\n",
      "The practice of purification consists of contemplation on discriminating views. When the mind is still like calm water and there is an absence of false thinking, the Real Mind, which does not exist apart from false thinking, manifests. This water-without-waves sort of Mind is called The Realization of Purity.\n",
      "\n",
      "69\n",
      "\n",
      "Realization of the State of Purity\n",
      "\n",
      "The practice of purification consists of contemplation on discriminating views. When the mind is still like calm water and there is an absence of false thinking, the Real Mind, which does not exist apart from false thinking, manifests. This water-without-waves sort of Mind is called The Realization of Purity.\n",
      "\n",
      "69\n",
      "\n",
      "Realization of the State of Purity\n",
      "\n",
      "The practice of purification consists of contemplation on discriminating views. When the mind is still like calm water and there is an absence of false thinking, the Real Mind, which does not exist apart from false thinking, manifests. This water-without-waves sort of Mind is called The Realization of Purity.\n",
      "\n",
      "69\n",
      "\n",
      "Realization of the State of Purity\n",
      "\n",
      "The practice of purification consists of contemplation on discriminating views. When the mind is still like calm water and there is an absence of false thinking, the Real Mind, which does not exist apart from false thinking, manifests. This water-without-waves sort of Mind is called The Realization of Purity.\n",
      "\n",
      "69\n",
      "\n",
      "Question: what is realization of the state of purity?\n",
      "Helpful Answer: The Realization of Purity is a state of mind achieved through the practice of purification, which involves contemplation on discriminating views. When the mind is still like calm water and free of false thinking, the Real Mind, which is not separate from false thinking, manifests. This state of mind is referred to as The Realization of Purity.\n",
      "\n",
      "\n"
     ]
    }
   ],
   "source": [
    "query = query1\n",
    "\n",
    "for chunk_size in [500, 1000]:\n",
    "    for chunk_overlap in [0, 100]:\n",
    "        response = get_answer_recursive(doc_text, chunk_size, chunk_overlap, query)\n",
    "        print(f\"chunk={chunk_size}, overlap={chunk_overlap}, response={response}\\n\\n\")"
   ]
  },
  {
   "cell_type": "code",
   "execution_count": 19,
   "metadata": {},
   "outputs": [
    {
     "name": "stderr",
     "output_type": "stream",
     "text": [
      "c:\\Users\\Dhruv\\anaconda3\\envs\\langchain_apps\\lib\\site-packages\\huggingface_hub\\file_download.py:1132: FutureWarning: `resume_download` is deprecated and will be removed in version 1.0.0. Downloads always resume when possible. If you want to force a new download, use `force_download=True`.\n",
      "  warnings.warn(\n",
      "c:\\Users\\Dhruv\\anaconda3\\envs\\langchain_apps\\lib\\site-packages\\huggingface_hub\\file_download.py:1132: FutureWarning: `resume_download` is deprecated and will be removed in version 1.0.0. Downloads always resume when possible. If you want to force a new download, use `force_download=True`.\n",
      "  warnings.warn(\n",
      "c:\\Users\\Dhruv\\anaconda3\\envs\\langchain_apps\\lib\\site-packages\\huggingface_hub\\file_download.py:1132: FutureWarning: `resume_download` is deprecated and will be removed in version 1.0.0. Downloads always resume when possible. If you want to force a new download, use `force_download=True`.\n",
      "  warnings.warn(\n"
     ]
    },
    {
     "name": "stdout",
     "output_type": "stream",
     "text": [
      "chunk=500, overlap=0\n",
      ", character_response= The Six Profound Dharma Gates are a set of meditation practices consisting of counting, following the breath, stopping thoughts, contemplating, returning to the present moment, and purifying the mind. These practices help to regulate the mind and enable it to relax, allowing for deeper meditation and the realization of Great Dhyana and Great Prajna.\n",
      ", token_response =  The Six Profound Dharma Gates are a set of meditation practices consisting of counting, following the breath, stopping thoughts, contemplating, returning to the present moment, and purifying the mind. These practices help to regulate the mind and enable it to relax, allowing for deeper meditation and the realization of Great Dhyana and Great Prajna.\n",
      ", recursive_response =  The Six Profound Dharma Gates are a series of meditation practices designed to help regulate the mind and enable it to relax, leading to the realization of Great Dhyana (deep meditation) and Great Prajna (wisdom). These practices include counting the breath, the two main practices of Chih (calm abiding) and Kuan (insight), and the concluding practices of seeing distinctions at the level of perception. The goal is to reach a state of calm and clarity where the Real Mind, which does not exist apart from false thinking, can manifest.\n",
      "\n",
      "\n",
      "\n"
     ]
    },
    {
     "name": "stderr",
     "output_type": "stream",
     "text": [
      "c:\\Users\\Dhruv\\anaconda3\\envs\\langchain_apps\\lib\\site-packages\\huggingface_hub\\file_download.py:1132: FutureWarning: `resume_download` is deprecated and will be removed in version 1.0.0. Downloads always resume when possible. If you want to force a new download, use `force_download=True`.\n",
      "  warnings.warn(\n",
      "c:\\Users\\Dhruv\\anaconda3\\envs\\langchain_apps\\lib\\site-packages\\huggingface_hub\\file_download.py:1132: FutureWarning: `resume_download` is deprecated and will be removed in version 1.0.0. Downloads always resume when possible. If you want to force a new download, use `force_download=True`.\n",
      "  warnings.warn(\n",
      "c:\\Users\\Dhruv\\anaconda3\\envs\\langchain_apps\\lib\\site-packages\\huggingface_hub\\file_download.py:1132: FutureWarning: `resume_download` is deprecated and will be removed in version 1.0.0. Downloads always resume when possible. If you want to force a new download, use `force_download=True`.\n",
      "  warnings.warn(\n"
     ]
    },
    {
     "name": "stdout",
     "output_type": "stream",
     "text": [
      "chunk=500, overlap=100\n",
      ", character_response= The Six Profound Dharma Gates refer to a set of practices in Mahayana Buddhism that help regulate the mind and enable it to relax, leading to the realization of Great Dhyana (deep meditation) and Great Prajna (wisdom). The practices include counting and following the breath, the two main practices of Chih (calm abiding) and Kuan (insight), and the concluding practices of seeing distinctions at the level of conceptions and no longer being at that level, which relates to the more subtle level of perceptions.\n",
      ", token_response =  The Six Profound Dharma Gates refer to a set of practices in Mahayana Buddhism that help regulate the mind and enable it to relax, leading to the realization of Great Dhyana (deep meditation) and Great Prajna (wisdom). The practices include counting and following the breath, the two main practices of Chih (calm abiding) and Kuan (insight), and the concluding practices of seeing distinctions at the level of conceptions and no longer being at that level, which relates to the more subtle level of perceptions.\n",
      ", recursive_response =  The Six Profound Dharma Gates refer to a set of practices in Mahayana Buddhism that help regulate the mind and enable it to relax, leading to the realization of Great Dhyana (deep meditation) and Great Prajna (wisdom). The practices include counting and following the breath, the two main practices of Chih (calm abiding) and Kuan (insight), and the concluding practices of seeing distinctions at the level of conceptions and no longer being at that level, which relates to the more subtle level of perceptions.\n",
      "\n",
      "\n",
      "\n"
     ]
    },
    {
     "name": "stderr",
     "output_type": "stream",
     "text": [
      "c:\\Users\\Dhruv\\anaconda3\\envs\\langchain_apps\\lib\\site-packages\\huggingface_hub\\file_download.py:1132: FutureWarning: `resume_download` is deprecated and will be removed in version 1.0.0. Downloads always resume when possible. If you want to force a new download, use `force_download=True`.\n",
      "  warnings.warn(\n",
      "c:\\Users\\Dhruv\\anaconda3\\envs\\langchain_apps\\lib\\site-packages\\huggingface_hub\\file_download.py:1132: FutureWarning: `resume_download` is deprecated and will be removed in version 1.0.0. Downloads always resume when possible. If you want to force a new download, use `force_download=True`.\n",
      "  warnings.warn(\n",
      "c:\\Users\\Dhruv\\anaconda3\\envs\\langchain_apps\\lib\\site-packages\\huggingface_hub\\file_download.py:1132: FutureWarning: `resume_download` is deprecated and will be removed in version 1.0.0. Downloads always resume when possible. If you want to force a new download, use `force_download=True`.\n",
      "  warnings.warn(\n"
     ]
    },
    {
     "name": "stdout",
     "output_type": "stream",
     "text": [
      "chunk=1000, overlap=0\n",
      ", character_response= The Six Profound Dharma Gates refer to a set of practices in Mahayana Buddhism that help regulate the mind and enable it to relax, leading to the realization of Great Dhyana (deep meditation) and Great Prajna (wisdom). The practices include counting and following the breath, the two main practices of Chih (calm abiding) and Kuan (insight), and the concluding practices of seeing distinctions at the level of conceptions and no longer being at that level, which relates to the more subtle level of perceptions.\n",
      ", token_response =  The Six Profound Dharma Gates refer to a set of practices in Mahayana Buddhism that help regulate the mind and enable it to relax, leading to the realization of Great Dhyana (deep meditation) and Great Prajna (wisdom). The practices include counting and following the breath, the two main practices of Chih (calm abiding) and Kuan (insight), and the concluding practices of seeing distinctions at the level of conceptions and no longer being at that level, which relates to the more subtle level of perceptions.\n",
      ", recursive_response =  The Six Profound Dharma Gates refer to a set of practices in Mahayana Buddhism that help regulate the mind and enable it to relax, leading to the realization of Great Dhyana (deep meditation) and Great Prajna (wisdom). The practices include counting and following the breath, the two main practices of Chih (calm abiding) and Kuan (insight), and the concluding practices of seeing distinctions at the level of conceptions and no longer being at that level, which relates to the more subtle level of perceptions.\n",
      "\n",
      "\n",
      "\n"
     ]
    },
    {
     "name": "stderr",
     "output_type": "stream",
     "text": [
      "c:\\Users\\Dhruv\\anaconda3\\envs\\langchain_apps\\lib\\site-packages\\huggingface_hub\\file_download.py:1132: FutureWarning: `resume_download` is deprecated and will be removed in version 1.0.0. Downloads always resume when possible. If you want to force a new download, use `force_download=True`.\n",
      "  warnings.warn(\n",
      "c:\\Users\\Dhruv\\anaconda3\\envs\\langchain_apps\\lib\\site-packages\\huggingface_hub\\file_download.py:1132: FutureWarning: `resume_download` is deprecated and will be removed in version 1.0.0. Downloads always resume when possible. If you want to force a new download, use `force_download=True`.\n",
      "  warnings.warn(\n",
      "c:\\Users\\Dhruv\\anaconda3\\envs\\langchain_apps\\lib\\site-packages\\huggingface_hub\\file_download.py:1132: FutureWarning: `resume_download` is deprecated and will be removed in version 1.0.0. Downloads always resume when possible. If you want to force a new download, use `force_download=True`.\n",
      "  warnings.warn(\n"
     ]
    },
    {
     "name": "stdout",
     "output_type": "stream",
     "text": [
      "chunk=1000, overlap=100\n",
      ", character_response= The Six Profound Dharma Gates refer to a set of practices in Mahayana Buddhism that help regulate the mind and enable it to relax, leading to the realization of Great Dhyana (deep meditation) and Great Prajna (wisdom). The practices include counting and following the breath, the two main practices of Chih (calm abiding) and Kuan (insight), and the concluding practices of seeing distinctions at the level of conceptions and no longer being at that level, which relates to the more subtle level of perceptions.\n",
      ", token_response =  The Six Profound Dharma Gates refer to a set of practices in Mahayana Buddhism that help regulate the mind and enable it to relax, leading to the realization of Great Dhyana (deep meditation) and Great Prajna (wisdom). The practices include counting and following the breath, the two main practices of Chih (calm abiding) and Kuan (insight), and the concluding practices of seeing distinctions at the level of conceptions and no longer being at that level, which relates to the more subtle level of perceptions.\n",
      ", recursive_response =  The Six Profound Dharma Gates refer to a set of practices in Mahayana Buddhism that help regulate the mind and enable it to relax, leading to the realization of Great Dhyana (deep meditation) and Great Prajna (wisdom). The practices include counting and following the breath, the two main practices of Chih (calm abiding) and Kuan (insight), and the concluding practices of seeing distinctions at the level of conceptions and no longer being at that level, which relates to the more subtle level of perceptions.\n",
      "\n",
      "\n",
      "\n"
     ]
    }
   ],
   "source": [
    "query = query2\n",
    "\n",
    "for chunk_size in [500, 1000]:\n",
    "    for chunk_overlap in [0, 100]:\n",
    "        response_1 = get_answer_character(doc_text, chunk_size, chunk_overlap, query)\n",
    "        response_2 = get_answer_token(doc_text, chunk_size, chunk_overlap, query)\n",
    "        response_3 = get_answer_recursive(doc_text, chunk_size, chunk_overlap, query)\n",
    "        print(f\"chunk={chunk_size}, overlap={chunk_overlap}\\n, character_response={response_1.split(':')[-1]}\\n, token_response = {response_2.split(':')[-1]}\\n, recursive_response = {response_3.split(':')[-1]}\\n\\n\\n\")"
   ]
  },
  {
   "cell_type": "code",
   "execution_count": null,
   "metadata": {},
   "outputs": [],
   "source": []
  }
 ],
 "metadata": {
  "kernelspec": {
   "display_name": "langchain_apps",
   "language": "python",
   "name": "python3"
  },
  "language_info": {
   "codemirror_mode": {
    "name": "ipython",
    "version": 3
   },
   "file_extension": ".py",
   "mimetype": "text/x-python",
   "name": "python",
   "nbconvert_exporter": "python",
   "pygments_lexer": "ipython3",
   "version": "3.10.14"
  }
 },
 "nbformat": 4,
 "nbformat_minor": 2
}
